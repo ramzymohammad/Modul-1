{
 "cells": [
  {
   "cell_type": "code",
   "execution_count": null,
   "metadata": {},
   "outputs": [],
   "source": [
    "mobil = ['Toyota', 'Honda', 'Mercedes']\n",
    "\n",
    "print(type(mobil))\n",
    "print(mobil)\n",
    "\n",
    "# indexing\n",
    "print(mobil[0])\n",
    "print(mobil[1])\n",
    "# print(mobil[5])\n",
    "\n",
    "# slicing\n",
    "print(mobil[0:2])\n",
    "print(mobil[:3])\n",
    "print(mobil[2:7])\n",
    "print(mobil[::-1])\n",
    "\n",
    "# append = menambahkan element di posisi paling belakang\n",
    "mobil.append('BMW')\n",
    "print(mobil)\n",
    "mobil.append('Mercedes')\n",
    "print(mobil)\n",
    "\n",
    "# pop = meremove element yang ada di posisi paling belakang\n",
    "hasil_pop = mobil.pop()\n",
    "print(mobil)\n",
    "print(hasil_pop)\n",
    "\n",
    "# index = mengetahui index dari sebuah element tertentu\n",
    "print('Index dari mobil Toyota:', mobil.index('Toyota'))\n",
    "print('Index dari mobil Mercedes:', mobil.index('Mercedes'))\n",
    "\n",
    "print(mobil[0].index('y'))\n",
    "print(mobil[mobil.index('Mercedes')].index('s'))\n",
    "#     mobil[0].index('y')\n",
    "#     'Toyota'.index('y')\n",
    "\n",
    "# copy = membuat copy dari list\n",
    "mobil_copy = mobil.copy()\n",
    "print(mobil)\n",
    "print(mobil_copy)\n",
    "\n",
    "mobil_copy.pop()\n",
    "print(mobil) # tidak akan terdampak oleh pop dari mobil_copy\n",
    "print(mobil_copy)\n",
    "\n",
    "mobil2 = mobil\n",
    "print(mobil)\n",
    "print(mobil2)\n",
    "\n",
    "mobil2.pop()\n",
    "print(mobil)\n",
    "print(mobil2)"
   ]
  }
 ],
 "metadata": {
  "kernelspec": {
   "display_name": "Python 3",
   "language": "python",
   "name": "python3"
  },
  "language_info": {
   "codemirror_mode": {
    "name": "ipython",
    "version": 3
   },
   "file_extension": ".py",
   "mimetype": "text/x-python",
   "name": "python",
   "nbconvert_exporter": "python",
   "pygments_lexer": "ipython3",
   "version": "3.7.4"
  }
 },
 "nbformat": 4,
 "nbformat_minor": 2
}
